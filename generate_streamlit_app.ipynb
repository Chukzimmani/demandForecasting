{
 "cells": [
  {
   "cell_type": "markdown",
   "id": "2c3c7334",
   "metadata": {},
   "source": [
    "# Generate Streamlit App Script for SARIMAX Forecasting"
   ]
  },
  {
   "cell_type": "code",
   "execution_count": 2,
   "id": "14f71646",
   "metadata": {},
   "outputs": [],
   "source": [
    "app_code = \"\"\"Streamlit app code (trimmed for notebook readability)\"\"\".format(\"\"\"\n",
    "import streamlit as st\n",
    "import pandas as pd\n",
    "import numpy as np\n",
    "import matplotlib.pyplot as plt\n",
    "import pickle\n",
    "from datetime import datetime\n",
    "\n",
    "st.title(\"Clothing Demand Forecasting App\")\n",
    "st.write(\"This app uses a pre-trained SARIMAX model to forecast clothing demand based on discount, price, and compet...\"\"\".strip())\n",
    "\n",
    "# Save to app.py\n",
    "with open(\"app.py\", \"w\") as f:\n",
    "    f.write(app_code)"
   ]
  }
 ],
 "metadata": {
  "kernelspec": {
   "display_name": "Python 3 (ipykernel)",
   "language": "python",
   "name": "python3"
  },
  "language_info": {
   "codemirror_mode": {
    "name": "ipython",
    "version": 3
   },
   "file_extension": ".py",
   "mimetype": "text/x-python",
   "name": "python",
   "nbconvert_exporter": "python",
   "pygments_lexer": "ipython3",
   "version": "3.11.7"
  }
 },
 "nbformat": 4,
 "nbformat_minor": 5
}
