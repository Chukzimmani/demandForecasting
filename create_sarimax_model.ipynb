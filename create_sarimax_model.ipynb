{
 "cells": [
  {
   "cell_type": "markdown",
   "id": "f98e2fd3",
   "metadata": {},
   "source": [
    "# SARIMAX Model Training for Clothing Category"
   ]
  },
  {
   "cell_type": "code",
   "execution_count": 2,
   "id": "0d4a9387",
   "metadata": {},
   "outputs": [
    {
     "name": "stderr",
     "output_type": "stream",
     "text": [
      "/opt/anaconda3/lib/python3.11/site-packages/statsmodels/tsa/base/tsa_model.py:473: ValueWarning: No frequency information was provided, so inferred frequency D will be used.\n",
      "  self._init_dates(dates, freq)\n",
      "/opt/anaconda3/lib/python3.11/site-packages/statsmodels/tsa/base/tsa_model.py:473: ValueWarning: No frequency information was provided, so inferred frequency D will be used.\n",
      "  self._init_dates(dates, freq)\n",
      "/opt/anaconda3/lib/python3.11/site-packages/statsmodels/base/model.py:607: ConvergenceWarning: Maximum Likelihood optimization failed to converge. Check mle_retvals\n",
      "  warnings.warn(\"Maximum Likelihood optimization failed to \"\n"
     ]
    }
   ],
   "source": [
    "import pandas as pd\n",
    "from statsmodels.tsa.statespace.sarimax import SARIMAX\n",
    "import pickle\n",
    "\n",
    "# Load the preprocessed dataset\n",
    "df = pd.read_csv(\"retail_store_inventory_preprocessed.csv\", parse_dates=[\"Date\"])\n",
    "df = df[df[\"Category\"] == 3]\n",
    "df.set_index(\"Date\", inplace=True)\n",
    "df.sort_index(inplace=True)\n",
    "\n",
    "# Aggregate by date\n",
    "sarimax_df = df.groupby(df.index).agg({\n",
    "    \"Units Sold\": \"sum\",\n",
    "    \"Discount\": \"mean\",\n",
    "    \"Price\": \"mean\",\n",
    "    \"Competitor Pricing\": \"mean\"\n",
    "})\n",
    "\n",
    "# Define target and exogenous variables\n",
    "y = sarimax_df[\"Units Sold\"]\n",
    "exog = sarimax_df[[\"Discount\", \"Price\", \"Competitor Pricing\"]]\n",
    "\n",
    "# Fit SARIMAX model\n",
    "model = SARIMAX(y, exog=exog, order=(1, 1, 1), seasonal_order=(1, 1, 1, 12))\n",
    "results = model.fit(disp=False)\n",
    "\n",
    "# Save the model\n",
    "with open(\"sarimax_model.pkl\", \"wb\") as f:\n",
    "    pickle.dump(results, f)"
   ]
  }
 ],
 "metadata": {
  "kernelspec": {
   "display_name": "Python 3 (ipykernel)",
   "language": "python",
   "name": "python3"
  },
  "language_info": {
   "codemirror_mode": {
    "name": "ipython",
    "version": 3
   },
   "file_extension": ".py",
   "mimetype": "text/x-python",
   "name": "python",
   "nbconvert_exporter": "python",
   "pygments_lexer": "ipython3",
   "version": "3.11.7"
  }
 },
 "nbformat": 4,
 "nbformat_minor": 5
}
